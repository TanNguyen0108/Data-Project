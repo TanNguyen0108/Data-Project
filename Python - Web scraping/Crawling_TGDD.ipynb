{
 "cells": [
  {
   "cell_type": "code",
   "execution_count": 2,
   "id": "59d7f657",
   "metadata": {},
   "outputs": [
    {
     "name": "stdout",
     "output_type": "stream",
     "text": [
      "Requirement already satisfied: selenium in c:\\users\\tanng\\anaconda3\\lib\\site-packages (4.9.0)\n",
      "Requirement already satisfied: trio-websocket~=0.9 in c:\\users\\tanng\\anaconda3\\lib\\site-packages (from selenium) (0.10.2)\n",
      "Requirement already satisfied: urllib3[socks]~=1.26 in c:\\users\\tanng\\anaconda3\\lib\\site-packages (from selenium) (1.26.14)\n",
      "Requirement already satisfied: certifi>=2021.10.8 in c:\\users\\tanng\\anaconda3\\lib\\site-packages (from selenium) (2022.12.7)\n",
      "Requirement already satisfied: trio~=0.17 in c:\\users\\tanng\\anaconda3\\lib\\site-packages (from selenium) (0.22.0)\n",
      "Requirement already satisfied: exceptiongroup>=1.0.0rc9 in c:\\users\\tanng\\anaconda3\\lib\\site-packages (from trio~=0.17->selenium) (1.1.1)\n",
      "Requirement already satisfied: sniffio in c:\\users\\tanng\\anaconda3\\lib\\site-packages (from trio~=0.17->selenium) (1.2.0)\n",
      "Requirement already satisfied: sortedcontainers in c:\\users\\tanng\\anaconda3\\lib\\site-packages (from trio~=0.17->selenium) (2.4.0)\n",
      "Requirement already satisfied: idna in c:\\users\\tanng\\anaconda3\\lib\\site-packages (from trio~=0.17->selenium) (3.4)\n",
      "Requirement already satisfied: async-generator>=1.9 in c:\\users\\tanng\\anaconda3\\lib\\site-packages (from trio~=0.17->selenium) (1.10)\n",
      "Requirement already satisfied: outcome in c:\\users\\tanng\\anaconda3\\lib\\site-packages (from trio~=0.17->selenium) (1.2.0)\n",
      "Requirement already satisfied: cffi>=1.14 in c:\\users\\tanng\\anaconda3\\lib\\site-packages (from trio~=0.17->selenium) (1.15.1)\n",
      "Requirement already satisfied: attrs>=19.2.0 in c:\\users\\tanng\\anaconda3\\lib\\site-packages (from trio~=0.17->selenium) (22.1.0)\n",
      "Requirement already satisfied: wsproto>=0.14 in c:\\users\\tanng\\anaconda3\\lib\\site-packages (from trio-websocket~=0.9->selenium) (1.2.0)\n",
      "Requirement already satisfied: PySocks!=1.5.7,<2.0,>=1.5.6 in c:\\users\\tanng\\anaconda3\\lib\\site-packages (from urllib3[socks]~=1.26->selenium) (1.7.1)\n",
      "Requirement already satisfied: pycparser in c:\\users\\tanng\\anaconda3\\lib\\site-packages (from cffi>=1.14->trio~=0.17->selenium) (2.21)\n",
      "Requirement already satisfied: h11<1,>=0.9.0 in c:\\users\\tanng\\anaconda3\\lib\\site-packages (from wsproto>=0.14->trio-websocket~=0.9->selenium) (0.14.0)\n"
     ]
    },
    {
     "name": "stderr",
     "output_type": "stream",
     "text": [
      "'apt-get' is not recognized as an internal or external command,\n",
      "operable program or batch file.\n"
     ]
    },
    {
     "name": "stdout",
     "output_type": "stream",
     "text": [
      "Requirement already satisfied: requests in c:\\users\\tanng\\anaconda3\\lib\\site-packages (2.28.1)\n",
      "Requirement already satisfied: idna<4,>=2.5 in c:\\users\\tanng\\anaconda3\\lib\\site-packages (from requests) (3.4)\n",
      "Requirement already satisfied: charset-normalizer<3,>=2 in c:\\users\\tanng\\anaconda3\\lib\\site-packages (from requests) (2.0.4)\n",
      "Requirement already satisfied: urllib3<1.27,>=1.21.1 in c:\\users\\tanng\\anaconda3\\lib\\site-packages (from requests) (1.26.14)\n",
      "Requirement already satisfied: certifi>=2017.4.17 in c:\\users\\tanng\\anaconda3\\lib\\site-packages (from requests) (2022.12.7)\n"
     ]
    },
    {
     "name": "stderr",
     "output_type": "stream",
     "text": [
      "'apt' is not recognized as an internal or external command,\n",
      "operable program or batch file.\n",
      "'cp' is not recognized as an internal or external command,\n",
      "operable program or batch file.\n"
     ]
    }
   ],
   "source": [
    "!pip install selenium"
   ]
  },
  {
   "cell_type": "code",
   "execution_count": 6,
   "id": "65c8a0a6",
   "metadata": {},
   "outputs": [
    {
     "name": "stdout",
     "output_type": "stream",
     "text": [
      "Requirement already satisfied: requests in c:\\users\\tanng\\anaconda3\\lib\\site-packages (2.28.1)\n",
      "Requirement already satisfied: urllib3<1.27,>=1.21.1 in c:\\users\\tanng\\anaconda3\\lib\\site-packages (from requests) (1.26.14)\n",
      "Requirement already satisfied: charset-normalizer<3,>=2 in c:\\users\\tanng\\anaconda3\\lib\\site-packages (from requests) (2.0.4)\n",
      "Requirement already satisfied: certifi>=2017.4.17 in c:\\users\\tanng\\anaconda3\\lib\\site-packages (from requests) (2022.12.7)\n",
      "Requirement already satisfied: idna<4,>=2.5 in c:\\users\\tanng\\anaconda3\\lib\\site-packages (from requests) (3.4)\n"
     ]
    },
    {
     "name": "stderr",
     "output_type": "stream",
     "text": [
      "'cp' is not recognized as an internal or external command,\n",
      "operable program or batch file.\n"
     ]
    }
   ],
   "source": [
    "#!apt-get update \n",
    "!pip install requests\n",
    "#!apt install chromium-chromedriver\n",
    "!cp /usr/lib/chromium-browser/chromedriver /usr/bin"
   ]
  },
  {
   "cell_type": "code",
   "execution_count": 17,
   "id": "697a4be8",
   "metadata": {},
   "outputs": [
    {
     "name": "stderr",
     "output_type": "stream",
     "text": [
      "C:\\Users\\tanng\\AppData\\Local\\Temp\\ipykernel_19976\\3240818887.py:12: DeprecationWarning: use options instead of chrome_options\n",
      "  driver = webdriver.Chrome('chromedriver',chrome_options=chrome_options)\n"
     ]
    }
   ],
   "source": [
    "import numpy as np\n",
    "from selenium import webdriver\n",
    "from time import sleep\n",
    "import random\n",
    "from selenium.common.exceptions import NoSuchElementException,ElementNotInteractableException\n",
    "from selenium.webdriver.common.by import By\n",
    "import pandas as pd\n",
    "chrome_options = webdriver.ChromeOptions()\n",
    "chrome_options.add_argument('--headless')\n",
    "chrome_options.add_argument('--no-sandbox')\n",
    "chrome_options.add_argument('--disable-dev-shm-usage')\n",
    "driver = webdriver.Chrome('chromedriver',chrome_options=chrome_options)"
   ]
  },
  {
   "cell_type": "code",
   "execution_count": 8,
   "id": "111ee429",
   "metadata": {},
   "outputs": [],
   "source": [
    "driver.get(\"https://www.thegioididong.com/dtdd-nokia#c=42&m=17201,19,1,5332,4832,2236,2235,1971,2,80&o=9&pi=9\")\n",
    "sleep(random.randint(5,10))"
   ]
  },
  {
   "cell_type": "code",
   "execution_count": 9,
   "id": "a2fc0d5e",
   "metadata": {},
   "outputs": [
    {
     "data": {
      "text/plain": [
       "['https://www.thegioididong.com/dtdd/oppo-a57-128gb/danh-gia',\n",
       " 'https://www.thegioididong.com/dtdd/xiaomi-redmi-note-12-4g/danh-gia',\n",
       " 'https://www.thegioididong.com/dtdd/iphone-14-pro-max/danh-gia',\n",
       " 'https://www.thegioididong.com/dtdd/samsung-galaxy-a14/danh-gia',\n",
       " 'https://www.thegioididong.com/dtdd/samsung-galaxy-a04-4gb-64gb/danh-gia',\n",
       " 'https://www.thegioididong.com/dtdd/samsung-galaxy-a14-4gb/danh-gia',\n",
       " 'https://www.thegioididong.com/dtdd/samsung-galaxy-a23-6gb/danh-gia',\n",
       " 'https://www.thegioididong.com/dtdd/oppo-a17k/danh-gia',\n",
       " 'https://www.thegioididong.com/dtdd/xiaomi-redmi-note-12-4gb/danh-gia',\n",
       " 'https://www.thegioididong.com/dtdd/oppo-a77s/danh-gia',\n",
       " 'https://www.thegioididong.com/dtdd/masstel-izi-10-4g/danh-gia',\n",
       " 'https://www.thegioididong.com/dtdd/oppo-reno8-t-5g-256gb/danh-gia',\n",
       " 'https://www.thegioididong.com/dtdd/xiaomi-redmi-12c/danh-gia',\n",
       " 'https://www.thegioididong.com/dtdd/iphone-14-pro-max-256gb/danh-gia',\n",
       " 'https://www.thegioididong.com/dtdd/samsung-galaxy-a34-5g-128gb/danh-gia',\n",
       " 'https://www.thegioididong.com/dtdd/xiaomi-redmi-12c-64gb/danh-gia',\n",
       " 'https://www.thegioididong.com/dtdd/oppo-reno8-t/danh-gia',\n",
       " 'https://www.thegioididong.com/dtdd/samsung-galaxy-a04s/danh-gia',\n",
       " 'https://www.thegioididong.com/dtdd/iphone-11/danh-gia',\n",
       " 'https://www.thegioididong.com/dtdd/xiaomi-redmi-a1/danh-gia',\n",
       " 'https://www.thegioididong.com/dtdd/nokia-105-4g/danh-gia',\n",
       " 'https://www.thegioididong.com/dtdd/nokia-215/danh-gia',\n",
       " 'https://www.thegioididong.com/dtdd/vivo-y16/danh-gia',\n",
       " 'https://www.thegioididong.com/dtdd/iphone-11-128gb/danh-gia',\n",
       " 'https://www.thegioididong.com/dtdd/samsung-galaxy-a34/danh-gia',\n",
       " 'https://www.thegioididong.com/dtdd/iphone-13/danh-gia',\n",
       " 'https://www.thegioididong.com/dtdd/samsung-galaxy-a13-6gb/danh-gia',\n",
       " 'https://www.thegioididong.com/dtdd/oppo-a17/danh-gia',\n",
       " 'https://www.thegioididong.com/dtdd/realme-c55/danh-gia',\n",
       " 'https://www.thegioididong.com/dtdd/samsung-galaxy-a04/danh-gia',\n",
       " 'https://www.thegioididong.com/dtdd/samsung-galaxy-a54-5g-128gb/danh-gia',\n",
       " 'https://www.thegioididong.com/dtdd/samsung-galaxy-a53/danh-gia',\n",
       " 'https://www.thegioididong.com/dtdd/xiaomi-redmi-note-12-pro-5g/danh-gia',\n",
       " 'https://www.thegioididong.com/dtdd/masstel-lux-10/danh-gia',\n",
       " 'https://www.thegioididong.com/dtdd/mobell-m239/danh-gia',\n",
       " 'https://www.thegioididong.com/dtdd/itel-it9010/danh-gia',\n",
       " 'https://www.thegioididong.com/dtdd/vivo-v25e/danh-gia',\n",
       " 'https://www.thegioididong.com/dtdd/realme-c55-8gb/danh-gia',\n",
       " 'https://www.thegioididong.com/dtdd/oppo-a96-4g/danh-gia',\n",
       " 'https://www.thegioididong.com/dtdd/samsung-galaxy-s21-fe-6gb/danh-gia',\n",
       " 'https://www.thegioididong.com/dtdd/samsung-galaxy-a73/danh-gia',\n",
       " 'https://www.thegioididong.com/dtdd/oppo-a76-4g/danh-gia',\n",
       " 'https://www.thegioididong.com/dtdd/vivo-y22s-8gb/danh-gia',\n",
       " 'https://www.thegioididong.com/dtdd/masstel-fami-60/danh-gia',\n",
       " 'https://www.thegioididong.com/dtdd/samsung-galaxy-a54/danh-gia',\n",
       " 'https://www.thegioididong.com/dtdd/oppo-reno8-t-5g/danh-gia',\n",
       " 'https://www.thegioididong.com/dtdd/iphone-14-pro/danh-gia',\n",
       " 'https://www.thegioididong.com/dtdd/oppo-find-n2-flip/danh-gia',\n",
       " 'https://www.thegioididong.com/dtdd/samsung-galaxy-s20-fan-edition/danh-gia',\n",
       " 'https://www.thegioididong.com/dtdd/nokia-110-4g/danh-gia',\n",
       " 'https://www.thegioididong.com/dtdd/vivo-y35-2022/danh-gia',\n",
       " 'https://www.thegioididong.com/dtdd/samsung-galaxy-s23-ultra/danh-gia',\n",
       " 'https://www.thegioididong.com/dtdd/samsung-galaxy-a14-5g/danh-gia',\n",
       " 'https://www.thegioididong.com/dtdd/vivo-y02s-64gb/danh-gia',\n",
       " 'https://www.thegioididong.com/dtdd/vivo-y02s-32gb/danh-gia',\n",
       " 'https://www.thegioididong.com/dtdd/xiaomi-redmi-note-11-pro-4g/danh-gia',\n",
       " 'https://www.thegioididong.com/dtdd/xiaomi-12t-256gb/danh-gia',\n",
       " 'https://www.thegioididong.com/dtdd/realme-c33-3gb/danh-gia',\n",
       " 'https://www.thegioididong.com/dtdd/iphone-14/danh-gia',\n",
       " 'https://www.thegioididong.com/dtdd/mobell-f309/danh-gia',\n",
       " 'https://www.thegioididong.com/dtdd/samsung-galaxy-a33/danh-gia',\n",
       " 'https://www.thegioididong.com/dtdd/iphone-14-pro-max-512gb/danh-gia',\n",
       " 'https://www.thegioididong.com/dtdd/vivo-y02a/danh-gia',\n",
       " 'https://www.thegioididong.com/dtdd/itel-it9210/danh-gia',\n",
       " 'https://www.thegioididong.com/dtdd/oppo-reno8-4g/danh-gia',\n",
       " 'https://www.thegioididong.com/dtdd/realme-c35/danh-gia',\n",
       " 'https://www.thegioididong.com/dtdd/xiaomi-13-lite-5g/danh-gia',\n",
       " 'https://www.thegioididong.com/dtdd/oppo-reno8/danh-gia',\n",
       " 'https://www.thegioididong.com/dtdd/realme-c30s-2gb/danh-gia',\n",
       " 'https://www.thegioididong.com/dtdd/samsung-galaxy-a23-5g-6gb/danh-gia',\n",
       " 'https://www.thegioididong.com/dtdd/nokia-8210-4g/danh-gia',\n",
       " 'https://www.thegioididong.com/dtdd/masstel-izi-26-4g/danh-gia',\n",
       " 'https://www.thegioididong.com/dtdd/nokia-g22/danh-gia',\n",
       " 'https://www.thegioididong.com/dtdd/vivo-y22s-4gb/danh-gia',\n",
       " 'https://www.thegioididong.com/dtdd/iphone-14-plus/danh-gia',\n",
       " 'https://www.thegioididong.com/dtdd/realme-10/danh-gia',\n",
       " 'https://www.thegioididong.com/dtdd/samsung-galaxy-s21-fe/danh-gia',\n",
       " 'https://www.thegioididong.com/dtdd/realme-c33/danh-gia',\n",
       " 'https://www.thegioididong.com/dtdd/masstel-lux-20/danh-gia',\n",
       " 'https://www.thegioididong.com/dtdd/oppo-reno7/danh-gia',\n",
       " 'https://www.thegioididong.com/dtdd/iphone-12/danh-gia',\n",
       " 'https://www.thegioididong.com/dtdd/samsung-galaxy-z-flip4/danh-gia',\n",
       " 'https://www.thegioididong.com/dtdd/masstel-fami-12-4g/danh-gia',\n",
       " 'https://www.thegioididong.com/dtdd/xiaomi-redmi-note-11-pro-5g/danh-gia',\n",
       " 'https://www.thegioididong.com/dtdd/realme-c35-128gb/danh-gia',\n",
       " 'https://www.thegioididong.com/dtdd/samsung-galaxy-s23-5g/danh-gia',\n",
       " 'https://www.thegioididong.com/dtdd/vivo-v25/danh-gia',\n",
       " 'https://www.thegioididong.com/dtdd/iphone-14-pro-256gb/danh-gia',\n",
       " 'https://www.thegioididong.com/dtdd/xiaomi-redmi-note-11s/danh-gia',\n",
       " 'https://www.thegioididong.com/dtdd/mobell-rock-4/danh-gia',\n",
       " 'https://www.thegioididong.com/dtdd/samsung-galaxy-s22-ultra/danh-gia',\n",
       " 'https://www.thegioididong.com/dtdd/samsung-galaxy-s21-fe-256gb/danh-gia',\n",
       " 'https://www.thegioididong.com/dtdd/vivo-y01/danh-gia',\n",
       " 'https://www.thegioididong.com/dtdd/samsung-galaxy-a13-4g/danh-gia',\n",
       " 'https://www.thegioididong.com/dtdd/samsung-galaxy-z-fold4/danh-gia',\n",
       " 'https://www.thegioididong.com/dtdd/vivo-y02/danh-gia',\n",
       " 'https://www.thegioididong.com/dtdd/oppo-reno7-z/danh-gia',\n",
       " 'https://www.thegioididong.com/dtdd/samsung-galaxy-a23/danh-gia',\n",
       " 'https://www.thegioididong.com/dtdd/itel-l6502/danh-gia',\n",
       " 'https://www.thegioididong.com/dtdd/xiaomi-redmi-10a/danh-gia',\n",
       " 'https://www.thegioididong.com/dtdd/vivo-v25-pro-5g/danh-gia',\n",
       " 'https://www.thegioididong.com/dtdd/nokia-c21-plus/danh-gia',\n",
       " 'https://www.thegioididong.com/dtdd/samsung-galaxy-a23-5g/danh-gia',\n",
       " 'https://www.thegioididong.com/dtdd/oppo-reno8-z-5g/danh-gia',\n",
       " 'https://www.thegioididong.com/dtdd/samsung-galaxy-s23-plus/danh-gia',\n",
       " 'https://www.thegioididong.com/dtdd/itel-l6006/danh-gia',\n",
       " 'https://www.thegioididong.com/dtdd/samsung-galaxy-s23-ultra-5g-512gb/danh-gia',\n",
       " 'https://www.thegioididong.com/dtdd/realme-c30s-4gb/danh-gia',\n",
       " 'https://www.thegioididong.com/dtdd/vivo-y16-64gb/danh-gia',\n",
       " 'https://www.thegioididong.com/dtdd/xiaomi-12t/danh-gia',\n",
       " 'https://www.thegioididong.com/dtdd/nokia-c31-3gb/danh-gia',\n",
       " 'https://www.thegioididong.com/dtdd/samsung-galaxy-z-flip4-5g-512gb/danh-gia',\n",
       " 'https://www.thegioididong.com/dtdd/mobell-m539/danh-gia',\n",
       " 'https://www.thegioididong.com/dtdd/iphone-14-pro-max-1tb/danh-gia',\n",
       " 'https://www.thegioididong.com/dtdd/samsung-galaxy-s22-ultra-256gb/danh-gia',\n",
       " 'https://www.thegioididong.com/dtdd/iphone-12-128gb/danh-gia',\n",
       " 'https://www.thegioididong.com/dtdd/iphone-14-256gb/danh-gia',\n",
       " 'https://www.thegioididong.com/dtdd/samsung-galaxy-m53/danh-gia',\n",
       " 'https://www.thegioididong.com/dtdd/samsung-galaxy-z-flip4-5g-256gb/danh-gia',\n",
       " 'https://www.thegioididong.com/dtdd/oppo-a16/danh-gia',\n",
       " 'https://www.thegioididong.com/dtdd/oppo-reno8-pro/danh-gia',\n",
       " 'https://www.thegioididong.com/dtdd/xiaomi-13/danh-gia',\n",
       " 'https://www.thegioididong.com/dtdd/realme-9i-4gb-64gb/danh-gia',\n",
       " 'https://www.thegioididong.com/dtdd/realme-9i/danh-gia',\n",
       " 'https://www.thegioididong.com/dtdd/realme-c30s-3gb-64gb/danh-gia',\n",
       " 'https://www.thegioididong.com/dtdd/realme-9-4g/danh-gia',\n",
       " 'https://www.thegioididong.com/dtdd/mobell-f209/danh-gia',\n",
       " 'https://www.thegioididong.com/dtdd/vivo-y15s-2021/danh-gia',\n",
       " 'https://www.thegioididong.com/dtdd/nokia-c21-plus-32gb/danh-gia',\n",
       " 'https://www.thegioididong.com/dtdd/iphone-14-plus-256gb/danh-gia',\n",
       " 'https://www.thegioididong.com/dtdd/oppo-a95-4g/danh-gia',\n",
       " 'https://www.thegioididong.com/dtdd/realme-8-pro/danh-gia',\n",
       " 'https://www.thegioididong.com/dtdd/iphone-12-256gb/danh-gia',\n",
       " 'https://www.thegioididong.com/dtdd/iphone-13-mini/danh-gia',\n",
       " 'https://www.thegioididong.com/dtdd/oppo-a55-4g/danh-gia',\n",
       " 'https://www.thegioididong.com/dtdd/vivo-y21s-6gb/danh-gia',\n",
       " 'https://www.thegioididong.com/dtdd/vivo-y55-2022/danh-gia',\n",
       " 'https://www.thegioididong.com/dtdd/oppo-a57-4g/danh-gia',\n",
       " 'https://www.thegioididong.com/dtdd/realme-9-pro-plus/danh-gia',\n",
       " 'https://www.thegioididong.com/dtdd/vivo-t1x/danh-gia',\n",
       " 'https://www.thegioididong.com/dtdd/oppo-reno6/danh-gia',\n",
       " 'https://www.thegioididong.com/dtdd/samsung-galaxy-s22-plus/danh-gia',\n",
       " 'https://www.thegioididong.com/dtdd/vivo-y21s/danh-gia',\n",
       " 'https://www.thegioididong.com/dtdd/oppo-a16k/danh-gia',\n",
       " 'https://www.thegioididong.com/dtdd/samsung-galaxy-z-fold4-5g-512gb/danh-gia',\n",
       " 'https://www.thegioididong.com/dtdd/oppo-find-x5-pro/danh-gia',\n",
       " 'https://www.thegioididong.com/dtdd/vivo-y33s/danh-gia',\n",
       " 'https://www.thegioididong.com/dtdd/xiaomi-13-pro/danh-gia',\n",
       " 'https://www.thegioididong.com/dtdd/vivo-y21/danh-gia',\n",
       " 'https://www.thegioididong.com/dtdd/oppo-reno7-pro/danh-gia',\n",
       " 'https://www.thegioididong.com/dtdd/samsung-galaxy-s23-5g-256gb/danh-gia',\n",
       " 'https://www.thegioididong.com/dtdd/oppo-reno7-4g/danh-gia',\n",
       " 'https://www.thegioididong.com/dtdd/masstel-izi-55/danh-gia',\n",
       " 'https://www.thegioididong.com/dtdd/samsung-galaxy-s22/danh-gia',\n",
       " 'https://www.thegioididong.com/dtdd/iphone-14-pro-1tb/danh-gia',\n",
       " 'https://www.thegioididong.com/dtdd/samsung-galaxy-s22-256gb/danh-gia',\n",
       " 'https://www.thegioididong.com/dtdd/vivo-v23e/danh-gia',\n",
       " 'https://www.thegioididong.com/dtdd/samsung-galaxy-s23-plus-5g-512gb/danh-gia',\n",
       " 'https://www.thegioididong.com/dtdd/samsung-galaxy-s22-ultra-512gb/danh-gia',\n",
       " 'https://www.thegioididong.com/dtdd/samsung-galaxy-s23-ultra-5g-1tb/danh-gia',\n",
       " 'https://www.thegioididong.com/dtdd/iphone-13-512gb/danh-gia',\n",
       " 'https://www.thegioididong.com/dtdd/iphone-14-512gb/danh-gia',\n",
       " 'https://www.thegioididong.com/dtdd/iphone-13-256gb/danh-gia',\n",
       " 'https://www.thegioididong.com/dtdd/realme-8-5g/danh-gia',\n",
       " 'https://www.thegioididong.com/dtdd/vivo-y15a/danh-gia',\n",
       " 'https://www.thegioididong.com/dtdd/oppo-reno6-pro-5g/danh-gia',\n",
       " 'https://www.thegioididong.com/dtdd/iphone-14-pro-512gb/danh-gia',\n",
       " 'https://www.thegioididong.com/dtdd/samsung-galaxy-s22-plus-256gb/danh-gia',\n",
       " 'https://www.thegioididong.com/dtdd/vivo-v23-5g/danh-gia',\n",
       " 'https://www.thegioididong.com/dtdd/realme-8/danh-gia',\n",
       " 'https://www.thegioididong.com/dtdd/realme-c11-2021/danh-gia',\n",
       " 'https://www.thegioididong.com/dtdd/nokia-c30/danh-gia',\n",
       " 'https://www.thegioididong.com/dtdd/realme-c21-y-3gb/danh-gia',\n",
       " 'https://www.thegioididong.com/dtdd/realme-c21-y-4gb/danh-gia',\n",
       " 'https://www.thegioididong.com/dtdd/realme-c11-2021-4gb-64gb/danh-gia',\n",
       " 'https://www.thegioididong.com/dtdd/samsung-galaxy-a24/danh-gia',\n",
       " 'https://www.thegioididong.com/dtdd/samsung-galaxy-a24-8gb/danh-gia']"
      ]
     },
     "execution_count": 9,
     "metadata": {},
     "output_type": "execute_result"
    }
   ],
   "source": [
    "elems=driver.find_elements(By.CSS_SELECTOR, \".main-contain\")\n",
    "names = [elem.get_attribute('data-name') for elem in elems]\n",
    "links = [elem.get_attribute('href') for elem in elems]\n",
    "links_cmt=[]\n",
    "for i in range(0,len(links)):\n",
    "  links_cmt.append(links[i]+\"/danh-gia\")\n",
    "links_cmt"
   ]
  },
  {
   "cell_type": "code",
   "execution_count": 23,
   "id": "f7cca75c",
   "metadata": {},
   "outputs": [
    {
     "data": {
      "text/plain": [
       "177"
      ]
     },
     "execution_count": 23,
     "metadata": {},
     "output_type": "execute_result"
    }
   ],
   "source": [
    "len(links_cmt)"
   ]
  },
  {
   "cell_type": "code",
   "execution_count": 55,
   "id": "024e3981",
   "metadata": {},
   "outputs": [
    {
     "name": "stdout",
     "output_type": "stream",
     "text": [
      "link :https://www.thegioididong.com/dtdd/oppo-a57-128gb/danh-gia\n",
      "0   Crawl Page  1\n",
      "0   Crawl Page  2\n",
      "0   Crawl Page  3\n",
      "0   Crawl Page  4\n",
      "0   Crawl Page  5\n",
      "0   Crawl Page  6\n",
      "0   Crawl Page  7\n",
      "0   Crawl Page  8\n",
      "0   Crawl Page  9\n",
      "['Oanh', 'Anh Tuấn', 'Huy', 'Hồ Kim Ngọc', 'Phương', 'Linh', 'Võ Quang Minh', 'Trần Thị Thùy Dương', 'Anh Kiên', 'Nguyen Bach Khoa', 'C Hồng', 'Chị Như', 'Hoàng Thu Lê', 'Huội', 'Rảnh', 'Huỳnh Kim Sua', 'Đinh Phong', 'Trần Vũ Khánh', 'Chị Huyền', 'Nguyễn Anh Tuấn', 'Quyền', 'Diệp Văn Sơn', 'Chú Huynh', 'Phan Thanh Tuấn', 'Hồ Hiệp Hương', 'Lê Xuân Hải', 'Đặng Vân Khánh', 'Vũ Hữu Nam', 'Hồ Thị Trang', 'NGUYEN LE THU THAO', 'Huỳnh Minh Nhựt', 'Anh Quý', 'Trần Hoàng Trung', 'Y BRUIH ÊBAN', 'A Như', 'Thái Thị Trúc Anh', 'Nguyễn Văn Lai', 'Phan Nguyễn Hoàng Tú', 'GIANG', 'Quế Anh', 'LÊ ĐÌNH DƯƠNG', 'Nguyễn Quốc Cuờng', 'Bùi Đình Dũng', 'NGUYỄN VĂN TRƯỜNG', 'ĐỘ', 'CAO', 'TÙNG', 'Anh Tuấn', 'ÚT', 'TRÍ', 'LAI', 'CHIÊN', 'KHƯƠNG', 'DIỄM', 'NAM', 'DIỄM', 'DUNG', 'ĐƯỢC', 'NHÂN', 'TÍN', 'Quyền', 'GIANG', 'NGUY T', 'Phạm Hồng Thái', 'HƯNG', 'THUỶ', 'HẠNH', 'VĂN', 'HƯƠNG', 'ĐẠT', 'Thanh', 'Dũng Vũ', 'LÂN', 'BÍCH', 'ĐƯỢC', 'TRƯỜNG', 'MOL', 'ĐẠI', 'CONG', 'YÊN', 'THƯ', 'PHÁT', 'Nguyễn Thương Tính', 'Nguyen Quy Phuong', 'Nguyễn Anh Thư', 'Hà', 'Phú', 'Hoà', 'Nguyễn Thị Mai', 'Anh Nhân', 'DUYÊN', 'NGUYỄN VIẾT DUY', 'Hoàng Thị Ngọc', 'GIẢNG', 'TRẦN THỊ THU VÂN', 'CHUNG', 'PHƯƠNG', 'T%DD', 'TUẤN', 'THẢO', 'Nguyễn Thanh Công', 'NGOẠN', 'HÙNG', 'TÂM', 'ĐỖ HỮU HOÀNG', 'HIỀN', 'LY', 'T', 'Nguyễn Văn Cương', 'Cao Thị Thảo Lan', 'Anh Luân', 'Đoàn Bảy', 'Phạm Thị Hồng Thu', 'Anh Thiên', 'Mỹ Duyên', 'Hồng Lê', 'Anh Bảo', 'Anh Hoà', 'Hạnh', 'Lương', 'NGUYỄN VĂN LẠC', 'Nguyễn Hoàng Kim Ngân', 'Giang Nguyen', 'NGUYỄN THỊ BÍCH TRÂN', 'NHỨT', 'NGỌC', 'PHƯƠNG', 'CHI', 'LAM', 'ANH', 'LAN', 'TỚI', 'QUYÊN', 'TUYẾT', 'CƯỜNG', 'NGÂN', 'MAI', 'HƯNG', 'CÔNG', 'PH', 'MINH', 'HẰNG', 'LIÊN', 'CHUNG', 'TIÊN', 'XUÂN', 'HI U', 'TH%C1I', 'THÚY', 'LIÊM', 'PHƯƠNG', 'SÂM', 'DẦN', 'Nguyên', 'LÊ THỊ HÀ', 'Giàng A Hờ', 'Bùi Phan Nguyệt Thảo', 'HẢI', 'Phạm Oanh', 'PHÀN', 'TÂN', 'HƯƠNG', 'PHÙNG', 'TRỌNG', 'NGỌC', 'TẤN', 'NGỌC', 'HIỀN', 'TRANG', 'LINH', 'NGUYỄN THỊ ÁNH XUÂN', 'Anh Lê Thanh Hiếu', 'Phạm Tấn Hải', 'Quỳnh Anh', 'Mai Văn Ngọc', 'Nguyễn Trí Hiếu', 'Tấn Lực', 'Hải Anh', 'Trung', 'HƯƠNG', 'Long', 'SÁY', 'OANH', 'HỨA VĂN HÙNG', 'Nguyễn Thị Thị', 'Nguyễn Thị Ha', 'HUYỀN', 'BÌNH', 'THƯƠNG', 'Ngyenthanhhieu', 'CẢNH', 'VINH', 'HIẾU', 'HÒA', 'PHÚC', 'Anh Hiệp', 'Anh Tiến', 'PHƯƠNG', 'QUYẾT', 'XU%C2N', 'QUANG', 'L C', 'NHUNG', 'VINH', 'Thái Thị Trúc Anh', 'Đang Thi Tuyet Nhung', 'Nguyễn Trần Việt Quỳnh', 'HÀ', 'Lê Hoàng Hà', 'Lan Vy', 'ANH', 'Khương', 'Nguyễn Thị Ngọc Diễm', 'A Linh', 'MỪNG', 'Hiểu', 'Anh Việt', 'HỒ NgỌc VŨ', 'Hồ Thanh Duy', 'ĐăngNguyễn Cà Mau'] ['Lướt mượt,pin trâu,sạc siêu nhanh,rất hài lòng,ngày mai sẽ mua thêm 1 cái nữa cho anh xã😍', 'Tuấn', 'Tốt', 'Tốt', 'Sản phẩm oppo a57 bước đầu dùng tương đối ổn định. Rất hài lòng ạ', 'Tốt', 'Sản phẩm chạy mượt trong tầm giá', 'Ok sản phẩm tốt', 'Oke', 'ok', 'Mình thấy sản phẩm tốt', 'Tôi rất hài lòng về Dòng đt A57', 'ok', 'đt tôi', 'Sp ok', 'Chất lượng OK nhân viên tại nhiệt tình !', 'Đã nhiều lần mua hàng của hệ thống TGDD và chưa phải thất vọng lần nào.', 'Sản phẩm ok', 'Sản phẩm tốt sẽ ủng hộ shop nhiều', 'Máy dùng ok pin trâu sạc nhanh', 'Giá cả hợp lý, dễ sử dụng', 'Rất hài lòng với sản phẩm', 'Dùng khá ok', 'sản phẩm vừa ý nhe mn', 'Good', 'Ok ạ', '- Mới mua xong chưa dùng nên chưa biết các chức năng như thế nào . Nhưng mà cái mà mình thích nhất là kiểu máy và màu . Màu Vàng hay màu Xanh đều rất đẹp mỗi màu tôn lên 1 kiểu tùy vào mọi người thích màu gì nữa . Còn mình mua em này vì nó đúng kiểu mình thích 😁 về mặt ngoài thì quá OK còn bên trong chưa biết 😁 Hãy cứ tin tưởng oppo luôn là người bạn xứng đáng 👍 mình mua ở Điện Máy Xanh Đà Lạt mấy anh nhân viên tư vấn nhiệt tình 👍👍👍👍 #Đalat0503 #ĐvK', 'Ok', 'Ok', 'OK nhưng với tôi thi ko thị hợp cho cong viec', 'Mới mua tặng sinh nhật muộn cho nhỏ e gái út, mua ở TGDĐ Hùng Vương TP Ngã Bảy, Hậu Giang, em gái bé rất thích, chụp hình đẹp khỏi sài app… mua màu gold nói chung e nó rất vui và hài lòng. Mình cũng vui', 'Tốt', 'Ok lắm', 'Pin sài cực lâu sạc cũng nhanh nhân viên tư vấn rất tốt', 'Vừa mua xong dùng rồi cảm nhận đã cứ đánh giá 5sao cho nhân viên TGDD tại thị trấn đông hưng đã rồi tính tiếp', 'Sản phẩm sài rất ok', 'Rất tốt', 'ok nha', 'Tốt', 'Sài rất tốt', 'Ok', 'Nhân viên phục vụ tốt, điện thoại đẹp, máy chạy mượt trong tầm giá.', 'Tốt', 'Rất tốt', 'Tôi luôn luôn tin dùng các sản phẩm của Điên Máy Xanh. Xin cảm ổn rất nhiều.', 'Rất tốt', 'Oppo A57 quá tuyệt vời máy chạy mượt chụp ảnh sắc nét. Nhìn chúng là rất ok luôn', 'Nuột', 'Nên mua', 'Ok', 'Điện thoại sử dụng tốt', 'Rất tốt', 'Tốt', 'Sản phẩm tốt', 'Ram tuy cao nhưng chíp quá thấp. Chơi game vẫn giật lag. Dc cái pin trâu ổn', '👍', 'Dùng rất hài lòng', 'Tốt', 'Nhân viên phụ vụ tốt lắm a', 'Nhân viên rất nhiệt tình', 'dùng tốt trong tầm giá', 'Tốt', 'Rất tốt', 'Ok trong tầm giá', 'Good', 'Rất tốt', 'Sản phẩm rất tốt', 'Máy dụng nhảy', 'Mình dùng thấy tốt', 'Hàng dùng tốt', 'Máy thiết kế đẹp loa lớn cầm chắc tay. Pin sài lâu giá này thì được rồi', 'Sp rất tốt, tôi rất hài lòng.', 'Sp dúng rất tốt', 'Tot lam', 'Rất tốt', 'Máy đẹp, nhắn tin nhanh', 'Ok ạ', 'Sài tốt... đt mượt... chơi game rất rất tốt', 'Sản phẩm chất lượng, tôi thích quả bảo mật tại không gian phần cứng hệ thống chạy và chíp sử lý . liệu có thể 1 nhấn ngắt tất đường dẫn hay biết mấy 😁😁😁', 'N. V phục vụ tốt máy dùng mượt chất lượng phải chờ thơi gian', 'Máy đẹp, pin dùng được lâu. Máy có cảm ứng vân tay và nhận diện khuôn mặt.', 'Tốt', 'Bắt WiFi hơi bị đỉnh nha! Trong góc Những ĐT khác Bắt không tới cái này xài phà phà luôn', 'Tôi đã mua ở cửa hàng TGDD', 'Cảm ứng vân tay nhanh nhạy, face ID cũng nhanh, oppo cũng khá bền và mượt nên tin dùng, ai để ý đến cấu hình và cam thì có thể chọn máy khác chứ máy này chủ yếu pin tốt và màu đẹp', '', '', '', '', '', '', '', '', '', '', 'Xài bềnh', '', '', '', '', '', '', '', '', '', '', '', '', '', 'Sài ổn', 'Sản phẩm tốt chưa thấy vấn đề gì', 'Tốt', 'Tốt.', 'ok', 'Ok', 'Điện thoại khá phù hợp với nhu cầu của mình, thiết kế đẹp nữa. Nhưng pin của nó lại thua con đt mình mua cách đây 2 năm, k làm gì hết, pin vẫn tuột....', 'Ok', 'Nhân viên phục vụ chu đáo', 'Đt dùng chụp ảnh đẹp.', 'Ok', 'Tốt', 'Đt sd có phần lag k đc mượt cho lắm', 'Sản phẩm tốt chạy mượt', 'Chưa phát hiện gì', 'Chạy mạng hơi kém cần phải khắc phục thêm', 'sp sd ok', 'Dùng đc', 'Tốt', 'Sản phẩm dùng tốt', 'dùng tốt', 'Mh thấy dùng sp tốt,nhân viên phục vụ thì tôn trọng khách hàng', 'Điện thoại OPPO A 57 dùng tốt, giá phải chăng', 'Dt tốt, pin ít hào, màn hình loa ok', 'Sản phẩm OppoA57128GBsudungjtot', 'Điện thoại ok', 'Mua cho người thân sài màn hình lớn pin trâu', 'Sử dụng ok. So với giá thì máy khá ổn áp ☺️', 'Nói chung máy ở tầm giá này không mong gì nhiều, phù hợp cho người lớn tuổi hơn', 'Sản phẩm dùng tốt', 'Mình sử dụng thấy điện thoại A57 này rất tốt', 'Tốt, tôi rất với và hài lòng.', 'Mua tặng bố thấy bô noi xai dc,k trải nghiệm nên cũng k rõ lắm.', 'Tốt tôi rất vừa ý', 'Dùng được', 'Mẹ mình dùng nói cũng tạm, đẹp', 'Tốt', 'Máy thì tốt nhưng chiến game hơi log tí', 'Sản phẩm tốt', 'Tốt', 'Ok', 'Rất ok', 'Máy ngon', 'Tốt', '', '', '', '', '', '', '', '', '', '', '', '', '', '', '', '', '', '', '', 'Tắt nguồn rất khó, bấm rất nhiều lần mới thực hiện đuoc chức năng', 'Chơi game lag, camera mờ không rõ lắm :((', 'Cũng tạm ổn', 'Dùng cũng bt.', 'Người nhà tôi có ghé Dienmayxanh Đại Đồng hỏi mua 1 Oppo A57 thì được nhân viên nam tư vấn và bán với giá 4590k đồng. Sau khi biết chuyện tôi ghé lại cửa hàng này và yêu câu Quản lý là nữ và nhân viên nam bán hàng giải thích tại sao không tư vấn khách mua online để được giảm 300k?! Thì được nữ quản lý trả lời là mua tại cửa hàng tiện và giá 4590k. Trong khi giá niê yết bán online là 4290k. Sau đó nữ quản lý này bán lại theo giá niêm yết là 4290k. Tuy nhiên, trong lúc hỏi sdt của tôi để đặt hàng, tôi đã cung cấp nhưng khi mua xong không thấy tin nhắn hay tổng đài dienmayxanh gọi lại cho tôi và cũng không gửi tin nhắn kích hoạt bảo hành điện tử. Đề nghị Quản lý Dienmayxanh trả lời cho tôi! Tôi cảm thấy khách hàng ở quê không được tôn trọng và nhân viên tư vấn không đúng với chính sách bán hàng của Dienmayxanh.', 'Ok', 'Bt', 'Cảm ứng còn chậm', 'Ko ăn nổi con ss a10s 2018', 'Bình thường sặc nhanh', 'Loa khi người khác gọi đến bị nhỏ , đang nhắn tin thì tự thoát ra , hôm nào có thời gian sẽ ghé nhờ kĩ thuật hỗ trợ giúp', 'Sài tốt', 'Dùng thấy hơi lag mới mua 2 ngày trc nếu múôn đổi máy thì có tốn tiền ko ạ?', 'Nói chung ra tiền nào của đó. Nhưng đc cái vẻ ngoài đẹp.pin trâu thôi. chứ chạy cứ bị lag lag. K mượt.', 'Nhanh hết pin, load màn hình và truy cập ứng dụng bất kì hơi chậm,', 'điện thoại thì dùng tốt nhưng chiếc loa khuyến mại thì chưa dùng đã hỏng', 'Loa nghe ko rõ lắm', 'Không thấy hiện thị%pin', 'Luớt chậm lắm', 'Hình ảnh ảo không nét ,bàn phím khó sử dụng,pin 5000 bằng 3000 của sam sung', 'Máy dùng hơi đơ, camera k được nét. Tóm lại giá cao. Mua Xiaomi chắc ổn hơn', 'Pin hơi kém', 'Hình ảnh đẹp nhưng nhanh hết pin quá', '', '', '', '', '', '', '', '', '', 'Máy bị đứng hình lâu lâu bị lỗi thêm cái mỗi lần khởi động lại thì bị dựt xuống 1% dù mới sạc đầy', 'Máy nó cứ đơ đơ.chán dễ sợ', 'giật lag dù chỉ lướt web, ảnh chụp dễ nhoè hơn a54', 'Máy dùng rất nhanh hết điện', 'Máy giật lag. K mượt', 'Máy vừa mua về chậm, camera ngày càng tệ phông sướt màu bợt trắng. Lướt ko mượt. Nói chung mua xong thất vọng', 'Máy vừa dùng đã có hiện tượng đơ nhiều khi ấn nghe ko đc', 'Mới mua về dc 1 ngày xem Youtube bị lag, hình ảnh nhòa. Có khi vừa mở Youtube ra xem phim là hình ảnh cứ rung giật liên tục phải thoát ra mở lại. Đang xem nửa chừng có quảng cáo xong thì nó khựng lại lúc mới chiếu tiếp. Lần đầu tiên sử dụng mà gặp tình trạng như thế', 'Xài chưa đc 1 tháng nữa là mạng chậm k load đc dù wifi đầy mà yếu xìu dù đã giải phóng dung lượng r RAM đồ mà k chạy nổi chán dễ so', 'luớt Facebook cũng bị đơ, đây có phải là lỗi kỷ thuật k?', 'Máy dùng quá chán so với số tiền phải mua', 'Tgtd làm tiền khách hàng quá tệ gói mua bảo hành cho khác hàng không trung thực', 'Rất tệ mới mua hôm qua ngày 10/11/2022 Thua các dòng Oppo củ rất xa , phần đồ họa màng hình Menu của điện thoại rất là thấp , độ phân giải thấp kinh khủng , chụp hình có giấu chấm màu xanh lá làm người chụp xanh lè , vào Youtube phân giải không kịp lag , với số tiền này mua Điện thoại Xiaomi còn ngon gấp 10. Điểm nhấn Oppo a57 chỉ được vẻ bề ngoài , tôi khuyên các bạn đừng mua , mua là hói hận không kịp.', 'Mua lần 2 cái. Quá Thất Vọng', 'Mk nghĩ đt này m.n kh nên mua vì nó chỉ phục vụ đc như fb đồ thôi chứ nếu chơi gme thì nó giật vl chơi kh nổi máy tầm giá 4 mấy mà con chip vs màng hình cùi quá lỡ mua rồi đợi cuối tháng trả lại lun kh mua nữa yếu quá', 'Máy chậm như rùa... đc thiết key đẹp chả có gì ...'] [5, 5, 5, 5, 5, 5, 5, 5, 5, 5, 5, 5, 5, 5, 5, 5, 5, 5, 5, 5, 5, 5, 5, 5, 5, 5, 5, 5, 5, 5, 5, 5, 5, 5, 5, 5, 5, 5, 5, 5, 5, 5, 5, 5, 5, 5, 5, 5, 5, 5, 5, 5, 5, 5, 5, 5, 5, 5, 5, 5, 5, 5, 5, 5, 5, 5, 5, 5, 5, 5, 5, 5, 5, 5, 5, 5, 5, 5, 5, 5, 5, 5, 5, 5, 5, 5, 5, 5, 5, 5, 5, 5, 5, 5, 5, 5, 5, 5, 5, 5, 5, 5, 5, 5, 5, 5, 5, 5, 5, 4, 4, 4, 4, 4, 4, 4, 4, 4, 4, 4, 4, 4, 4, 4, 4, 4, 4, 4, 4, 4, 4, 4, 4, 4, 4, 4, 4, 4, 4, 4, 4, 4, 4, 4, 4, 4, 4, 4, 4, 4, 4, 4, 4, 4, 4, 4, 4, 4, 4, 4, 4, 4, 4, 4, 4, 4, 4, 4, 4, 4, 4, 4, 3, 3, 3, 3, 3, 3, 3, 3, 3, 3, 3, 3, 3, 3, 3, 3, 3, 3, 3, 3, 3, 3, 3, 3, 3, 3, 3, 3, 3, 3, 3, 3, 2, 2, 2, 2, 2, 2, 2, 2, 1, 1, 1, 1, 1, 1, 1, 1]\n"
     ]
    }
   ],
   "source": [
    "i=0\n",
    "df_ls = []\n",
    "for link in links_cmt:\n",
    "    p=1;\n",
    "    print('link :'+ link)\n",
    "    driver.get(link + \"?p=\" + str(p))\n",
    "    names_cmt,all_name , cmts, stars =[],[],[],[]\n",
    "    while True:\n",
    "        try:\n",
    "            print(i, \"  Crawl Page \", p)\n",
    "            containers = driver.find_elements(By.CSS_SELECTOR, '.comment__item.par')\n",
    "            #sleep(random.randint(5,10))\n",
    "            for container in containers:\n",
    "                names_cmt = container.find_element(By.CSS_SELECTOR, '.txtname').text\n",
    "                all_name.append(names_cmt)\n",
    "                \n",
    "                cmt = container.find_element(By.CSS_SELECTOR, '.cmt-txt').text\n",
    "                cmts.append(cmt)\n",
    "                \n",
    "                star = container.find_element(By.CSS_SELECTOR, '.comment-star')\n",
    "                stars.append(len(star.find_elements(By.CSS_SELECTOR, \".icon-star\")))\n",
    "                \n",
    "            if not containers:\n",
    "                df = pd.DataFrame(list(zip(all_name,cmts,stars)),columns=['Customer Name', 'Comments','Star Review'])\n",
    "                df_ls.append(df)\n",
    "                i+=1\n",
    "                break\n",
    "            p+=1\n",
    "            driver.get(link+\"?p=\"+str(p))\n",
    "            \n",
    "        except ElementNotInteractableException:\n",
    "            print(\"Element Not Intractable Exception\")\n",
    "            print(link)\n",
    "        #break_while (test)\n",
    "    #break for_1 (Test)\n",
    "    break"
   ]
  },
  {
   "cell_type": "code",
   "execution_count": 70,
   "id": "57ceba71",
   "metadata": {},
   "outputs": [],
   "source": [
    "final_df = pd.concat(df_ls, ignore_index = True)\n",
    "final_df.to_csv('crawl_tgdd.csv', index=False)"
   ]
  },
  {
   "cell_type": "code",
   "execution_count": 3,
   "id": "a1a39bfd",
   "metadata": {},
   "outputs": [
    {
     "ename": "NameError",
     "evalue": "name 'links' is not defined",
     "output_type": "error",
     "traceback": [
      "\u001b[1;31m---------------------------------------------------------------------------\u001b[0m",
      "\u001b[1;31mNameError\u001b[0m                                 Traceback (most recent call last)",
      "Cell \u001b[1;32mIn[3], line 1\u001b[0m\n\u001b[1;32m----> 1\u001b[0m \u001b[38;5;28mprint\u001b[39m(\u001b[43mlinks\u001b[49m)\n",
      "\u001b[1;31mNameError\u001b[0m: name 'links' is not defined"
     ]
    }
   ],
   "source": [
    "print(links)"
   ]
  }
 ],
 "metadata": {
  "kernelspec": {
   "display_name": "Python 3 (ipykernel)",
   "language": "python",
   "name": "python3"
  },
  "language_info": {
   "codemirror_mode": {
    "name": "ipython",
    "version": 3
   },
   "file_extension": ".py",
   "mimetype": "text/x-python",
   "name": "python",
   "nbconvert_exporter": "python",
   "pygments_lexer": "ipython3",
   "version": "3.10.9"
  }
 },
 "nbformat": 4,
 "nbformat_minor": 5
}
